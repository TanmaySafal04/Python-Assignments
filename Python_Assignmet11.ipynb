{
 "cells": [
  {
   "cell_type": "markdown",
   "id": "30724f4c",
   "metadata": {},
   "source": [
    "1. Create an assert statement that throws an AssertionError if the variable spam is a negative\n",
    "integer.\n",
    "2. Write an assert statement that triggers an AssertionError if the variables eggs and bacon contain\n",
    "strings that are the same as each other, even if their cases are different (that is, &#39;hello&#39; and &#39;hello&#39; are\n",
    "considered the same, and &#39;goodbye&#39; and &#39;GOODbye&#39; are also considered the same).\n",
    "3. Create an assert statement that throws an AssertionError every time.\n",
    "4. What are the two lines that must be present in your software in order to call logging.debug()?\n",
    "5. What are the two lines that your program must have in order to have logging.debug() send a\n",
    "logging message to a file named programLog.txt?\n",
    "6. What are the five levels of logging?\n",
    "7. What line of code would you add to your software to disable all logging messages?\n",
    "8.Why is using logging messages better than using print() to display the same message?\n",
    "9. What are the differences between the Step Over, Step In, and Step Out buttons in the debugger?\n",
    "10.After you click Continue, when will the debugger stop ?\n",
    "11. What is the concept of a breakpoint?"
   ]
  },
  {
   "cell_type": "markdown",
   "id": "46d16227",
   "metadata": {},
   "source": [
    "# Answers"
   ]
  },
  {
   "cell_type": "code",
   "execution_count": 6,
   "id": "e9aa300e",
   "metadata": {},
   "outputs": [
    {
     "name": "stdout",
     "output_type": "stream",
     "text": [
      "None\n"
     ]
    },
    {
     "ename": "AssertionError",
     "evalue": "Spam is negative",
     "output_type": "error",
     "traceback": [
      "\u001b[1;31m---------------------------------------------------------------------------\u001b[0m",
      "\u001b[1;31mAssertionError\u001b[0m                            Traceback (most recent call last)",
      "Input \u001b[1;32mIn [6]\u001b[0m, in \u001b[0;36m<cell line: 8>\u001b[1;34m()\u001b[0m\n\u001b[0;32m      5\u001b[0m     \u001b[38;5;28;01massert\u001b[39;00m spam\u001b[38;5;241m>\u001b[39m\u001b[38;5;241m0\u001b[39m,\u001b[38;5;124m\"\u001b[39m\u001b[38;5;124mSpam is negative\u001b[39m\u001b[38;5;124m\"\u001b[39m\n\u001b[0;32m      7\u001b[0m \u001b[38;5;28mprint\u001b[39m(number(\u001b[38;5;241m1\u001b[39m))\n\u001b[1;32m----> 8\u001b[0m \u001b[38;5;28mprint\u001b[39m(\u001b[43mnumber\u001b[49m\u001b[43m(\u001b[49m\u001b[38;5;241;43m-\u001b[39;49m\u001b[38;5;241;43m11\u001b[39;49m\u001b[43m)\u001b[49m)\n",
      "Input \u001b[1;32mIn [6]\u001b[0m, in \u001b[0;36mnumber\u001b[1;34m(spam)\u001b[0m\n\u001b[0;32m      4\u001b[0m \u001b[38;5;28;01mdef\u001b[39;00m \u001b[38;5;21mnumber\u001b[39m(spam):\n\u001b[1;32m----> 5\u001b[0m     \u001b[38;5;28;01massert\u001b[39;00m spam\u001b[38;5;241m>\u001b[39m\u001b[38;5;241m0\u001b[39m,\u001b[38;5;124m\"\u001b[39m\u001b[38;5;124mSpam is negative\u001b[39m\u001b[38;5;124m\"\u001b[39m\n",
      "\u001b[1;31mAssertionError\u001b[0m: Spam is negative"
     ]
    }
   ],
   "source": [
    "#1 Create an assert statement that throws an AssertionError if the variable spam is a negative integer.\n",
    "\n",
    "\n",
    "def number(spam):\n",
    "    assert spam>0,\"Spam is negative\"\n",
    "    \n",
    "print(number(1))\n",
    "print(number(-11))"
   ]
  },
  {
   "cell_type": "code",
   "execution_count": 8,
   "id": "c397a89c",
   "metadata": {},
   "outputs": [
    {
     "name": "stdout",
     "output_type": "stream",
     "text": [
      "None\n"
     ]
    },
    {
     "ename": "AssertionError",
     "evalue": "Strings are same",
     "output_type": "error",
     "traceback": [
      "\u001b[1;31m---------------------------------------------------------------------------\u001b[0m",
      "\u001b[1;31mAssertionError\u001b[0m                            Traceback (most recent call last)",
      "Input \u001b[1;32mIn [8]\u001b[0m, in \u001b[0;36m<cell line: 9>\u001b[1;34m()\u001b[0m\n\u001b[0;32m      6\u001b[0m     \u001b[38;5;28;01massert\u001b[39;00m eggs\u001b[38;5;241m.\u001b[39mupper()\u001b[38;5;241m!=\u001b[39mbacon\u001b[38;5;241m.\u001b[39mupper(),\u001b[38;5;124m\"\u001b[39m\u001b[38;5;124mStrings are same\u001b[39m\u001b[38;5;124m\"\u001b[39m\n\u001b[0;32m      8\u001b[0m \u001b[38;5;28mprint\u001b[39m(throw(\u001b[38;5;124m\"\u001b[39m\u001b[38;5;124mgoodbye1\u001b[39m\u001b[38;5;124m\"\u001b[39m,\u001b[38;5;124m\"\u001b[39m\u001b[38;5;124mGOODbye\u001b[39m\u001b[38;5;124m\"\u001b[39m))\n\u001b[1;32m----> 9\u001b[0m \u001b[38;5;28mprint\u001b[39m(\u001b[43mthrow\u001b[49m\u001b[43m(\u001b[49m\u001b[38;5;124;43m\"\u001b[39;49m\u001b[38;5;124;43mgoodbye\u001b[39;49m\u001b[38;5;124;43m\"\u001b[39;49m\u001b[43m,\u001b[49m\u001b[38;5;124;43m\"\u001b[39;49m\u001b[38;5;124;43mGOODbye\u001b[39;49m\u001b[38;5;124;43m\"\u001b[39;49m\u001b[43m)\u001b[49m)\n",
      "Input \u001b[1;32mIn [8]\u001b[0m, in \u001b[0;36mthrow\u001b[1;34m(eggs, bacon)\u001b[0m\n\u001b[0;32m      5\u001b[0m \u001b[38;5;28;01mdef\u001b[39;00m \u001b[38;5;21mthrow\u001b[39m(eggs,bacon):\n\u001b[1;32m----> 6\u001b[0m     \u001b[38;5;28;01massert\u001b[39;00m eggs\u001b[38;5;241m.\u001b[39mupper()\u001b[38;5;241m!=\u001b[39mbacon\u001b[38;5;241m.\u001b[39mupper(),\u001b[38;5;124m\"\u001b[39m\u001b[38;5;124mStrings are same\u001b[39m\u001b[38;5;124m\"\u001b[39m\n",
      "\u001b[1;31mAssertionError\u001b[0m: Strings are same"
     ]
    }
   ],
   "source": [
    "#2 Write an assert statement that triggers an AssertionError if the variables eggs and bacon contain strings  \n",
    "# that are the same as each other, even if their cases are different \n",
    "# (that is, 'hello' and 'hello' are considered the same, and 'goodbye' and 'GOODbye' are also considered the same).\n",
    "\n",
    "def throw(eggs,bacon):\n",
    "    assert eggs.upper()!=bacon.upper(),\"Strings are same\"\n",
    "    \n",
    "print(throw(\"goodbye1\",\"GOODbye\"))\n",
    "print(throw(\"goodbye\",\"GOODbye\"))"
   ]
  },
  {
   "cell_type": "code",
   "execution_count": 11,
   "id": "dbc6723d",
   "metadata": {},
   "outputs": [
    {
     "ename": "AssertionError",
     "evalue": "Always throws error",
     "output_type": "error",
     "traceback": [
      "\u001b[1;31m---------------------------------------------------------------------------\u001b[0m",
      "\u001b[1;31mAssertionError\u001b[0m                            Traceback (most recent call last)",
      "Input \u001b[1;32mIn [11]\u001b[0m, in \u001b[0;36m<cell line: 4>\u001b[1;34m()\u001b[0m\n\u001b[0;32m      1\u001b[0m \u001b[38;5;28;01mdef\u001b[39;00m \u001b[38;5;21malways_throw_error\u001b[39m(word):\n\u001b[0;32m      2\u001b[0m     \u001b[38;5;28;01massert\u001b[39;00m \u001b[38;5;241m1\u001b[39m\u001b[38;5;241m==\u001b[39m\u001b[38;5;241m2\u001b[39m,\u001b[38;5;124m\"\u001b[39m\u001b[38;5;124mAlways throws error\u001b[39m\u001b[38;5;124m\"\u001b[39m\n\u001b[1;32m----> 4\u001b[0m \u001b[38;5;28mprint\u001b[39m(\u001b[43malways_throw_error\u001b[49m\u001b[43m(\u001b[49m\u001b[38;5;241;43m234567\u001b[39;49m\u001b[43m)\u001b[49m)\n",
      "Input \u001b[1;32mIn [11]\u001b[0m, in \u001b[0;36malways_throw_error\u001b[1;34m(word)\u001b[0m\n\u001b[0;32m      1\u001b[0m \u001b[38;5;28;01mdef\u001b[39;00m \u001b[38;5;21malways_throw_error\u001b[39m(word):\n\u001b[1;32m----> 2\u001b[0m     \u001b[38;5;28;01massert\u001b[39;00m \u001b[38;5;241m1\u001b[39m\u001b[38;5;241m==\u001b[39m\u001b[38;5;241m2\u001b[39m,\u001b[38;5;124m\"\u001b[39m\u001b[38;5;124mAlways throws error\u001b[39m\u001b[38;5;124m\"\u001b[39m\n",
      "\u001b[1;31mAssertionError\u001b[0m: Always throws error"
     ]
    }
   ],
   "source": [
    "#3 Create an assert statement that throws an AssertionError every time.\n",
    "def always_throw_error(word):\n",
    "    assert 1==2,\"Always throws error\"\n",
    "    \n",
    "print(always_throw_error(234567))"
   ]
  },
  {
   "cell_type": "code",
   "execution_count": 12,
   "id": "b4ca4f9b",
   "metadata": {},
   "outputs": [],
   "source": [
    "#4 What are the two lines that must be present in your software in order to call logging.debug()?\n",
    "\n",
    "import logging\n",
    "\n",
    "logging.basicConfig(level=logging.DEBUG)\n"
   ]
  },
  {
   "cell_type": "code",
   "execution_count": 13,
   "id": "ff055f3b",
   "metadata": {},
   "outputs": [],
   "source": [
    "#5 What are the two lines that your program must have in order to have logging.debug() \n",
    "# send a logging message to a file named programLog.txt\n",
    "\n",
    "import logging\n",
    "logging.basicConfig(filename='programLog.txt', level=logging.DEBUG)\n"
   ]
  },
  {
   "cell_type": "markdown",
   "id": "0fd9ed55",
   "metadata": {},
   "source": [
    "#6 What are the five levels of logging?\n",
    "\n",
    "DEBUG , INFO , WARNING , ERROR , CRITICAL"
   ]
  },
  {
   "cell_type": "code",
   "execution_count": 14,
   "id": "42c8dd13",
   "metadata": {},
   "outputs": [],
   "source": [
    "#7 What line of code would you add to your software to disable all logging messages?\n",
    "\n",
    "import logging\n",
    "logging.disable(logging.NOTSET)\n"
   ]
  },
  {
   "cell_type": "markdown",
   "id": "e9d1aaca",
   "metadata": {},
   "source": [
    "#8 Why is using logging messages better than using print() to display the same message?\n",
    "\n",
    "In logging, we can customize the message we want to log as per our needs. This is one of the biggest advantage of logging over printing."
   ]
  },
  {
   "cell_type": "markdown",
   "id": "e3d99f09",
   "metadata": {},
   "source": [
    "#9 What are the differences between the Step Over, Step In, and Step Out buttons in the debugger?\n",
    "\n",
    "Step Over: It will tell the debugger to execute the next function and break afterwards.\n",
    "Step In: It will cause the debugger to go into the next function call and break there.\n",
    "Step Out: It will tell the debugger to finish the current function and break after it.\n"
   ]
  },
  {
   "cell_type": "markdown",
   "id": "587c5abc",
   "metadata": {},
   "source": [
    "#10 After you click Continue, when will the debugger stop ?\n",
    "\n",
    " Until a breakpoint is encountered"
   ]
  },
  {
   "cell_type": "markdown",
   "id": "29db26c7",
   "metadata": {},
   "source": [
    "#11 What is the concept of a breakpoint?\n",
    "\n",
    "It is used to intentionlly stop or pause a process during debugging."
   ]
  },
  {
   "cell_type": "code",
   "execution_count": null,
   "id": "b9df7708",
   "metadata": {},
   "outputs": [],
   "source": []
  }
 ],
 "metadata": {
  "kernelspec": {
   "display_name": "Python 3 (ipykernel)",
   "language": "python",
   "name": "python3"
  },
  "language_info": {
   "codemirror_mode": {
    "name": "ipython",
    "version": 3
   },
   "file_extension": ".py",
   "mimetype": "text/x-python",
   "name": "python",
   "nbconvert_exporter": "python",
   "pygments_lexer": "ipython3",
   "version": "3.9.12"
  }
 },
 "nbformat": 4,
 "nbformat_minor": 5
}
