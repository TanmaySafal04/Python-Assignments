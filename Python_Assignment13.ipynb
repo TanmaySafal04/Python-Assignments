{
 "cells": [
  {
   "cell_type": "markdown",
   "id": "54ed14da",
   "metadata": {},
   "source": [
    "1. What advantages do Excel spreadsheets have over CSV spreadsheets?\n",
    "\n",
    "2. What do you pass to csv.reader() and csv.writer() to create reader and writer objects?\n",
    "\n",
    "3. What modes do File objects for reader and writer objects need to be opened in?\n",
    "\n",
    "4. What method takes a list argument and writes it to a CSV file?\n",
    "\n",
    "5. What do the keyword arguments delimiter and line terminator do?\n",
    "\n",
    "6. What function takes a string of JSON data and returns a Python data structure?\n",
    "\n",
    "7. What function takes a Python data structure and returns a string of JSON data?"
   ]
  },
  {
   "cell_type": "markdown",
   "id": "0618ae01",
   "metadata": {},
   "source": [
    "#1 What advantages do Excel spreadsheets have over CSV spreadsheets?\n",
    "\n",
    "Excel spreadsheets are better fro storing more complex data as compared to csv spreadsheets"
   ]
  },
  {
   "cell_type": "markdown",
   "id": "ca48de5d",
   "metadata": {},
   "source": [
    "#2 What do you pass to csv.reader() and csv.writer() to create reader and writer objects?\n",
    "\n",
    "We first call csv.open() to open the file and pass 'w' to create csv.writer() OR pass 'r' to create csv.reader() object to perform the necessary operation."
   ]
  },
  {
   "cell_type": "markdown",
   "id": "c9ee866d",
   "metadata": {},
   "source": [
    "#3 What modes do File objects for reader and writer objects need to be opened in?\n",
    "\n",
    "File objects for reader must be opened by passing 'r' when opening the file in read mode and 'w' when opening in write mode."
   ]
  },
  {
   "cell_type": "markdown",
   "id": "94e01885",
   "metadata": {},
   "source": [
    "#4 What method takes a list argument and writes it to a CSV file?\n",
    "\n",
    "writerow()"
   ]
  },
  {
   "cell_type": "markdown",
   "id": "32319b53",
   "metadata": {},
   "source": [
    "#5 What do the keyword arguments delimiter and line terminator do?\n",
    "\n",
    "Delimiter separates characters whereas line terminator marks the end of a row."
   ]
  },
  {
   "cell_type": "markdown",
   "id": "46169dae",
   "metadata": {},
   "source": [
    "#6 What function takes a string of JSON data and returns a Python data structure?\n",
    "\n",
    "json.loads()"
   ]
  },
  {
   "cell_type": "markdown",
   "id": "90ed333e",
   "metadata": {},
   "source": [
    "#7 What function takes a Python data structure and returns a string of JSON data?\n",
    "\n",
    "json.dumps()"
   ]
  },
  {
   "cell_type": "code",
   "execution_count": null,
   "id": "fa7b8df3",
   "metadata": {},
   "outputs": [],
   "source": []
  }
 ],
 "metadata": {
  "kernelspec": {
   "display_name": "Python 3 (ipykernel)",
   "language": "python",
   "name": "python3"
  },
  "language_info": {
   "codemirror_mode": {
    "name": "ipython",
    "version": 3
   },
   "file_extension": ".py",
   "mimetype": "text/x-python",
   "name": "python",
   "nbconvert_exporter": "python",
   "pygments_lexer": "ipython3",
   "version": "3.9.12"
  }
 },
 "nbformat": 4,
 "nbformat_minor": 5
}
