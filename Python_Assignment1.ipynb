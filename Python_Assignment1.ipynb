{
 "cells": [
  {
   "cell_type": "markdown",
   "id": "ed2daeaa",
   "metadata": {},
   "source": [
    "# Questions\n"
   ]
  },
  {
   "cell_type": "raw",
   "id": "7172314f",
   "metadata": {},
   "source": [
    "1. In the below elements which of them are values or an expression? eg:- values can be\n",
    "integer or string and expressions will be mathematical operators.\n",
    "*\n",
    "hello\n",
    "\n",
    "-87.8\n",
    "\n",
    "-\n",
    "\n",
    "/\n",
    "\n",
    "+\n",
    "\n",
    "6\n",
    "\n",
    "Answer:\n",
    "Values are: hello,-87.8,6\n",
    "Expressions are: *,-,/,+\n",
    "\n"
   ]
  },
  {
   "cell_type": "raw",
   "id": "47904260",
   "metadata": {},
   "source": [
    "2. What is the difference between string and variable?\n",
    "\n",
    "Answer: A String is a series of characters which can't store any value.\n",
    "        A variable is a memory location where a value can be stored. It can be of type float,integer,string etc.\n",
    "\n",
    "\n"
   ]
  },
  {
   "cell_type": "raw",
   "id": "41692835",
   "metadata": {},
   "source": [
    "3. Describe three different data types.\n",
    "\n",
    "Answer: The three types of data types are:\n",
    "         i) Integer: It stores decimal numbers either zero, positive or negative. It can't store fractional value.\n",
    "         ii) Float: Unlike integer, it can also store fractional value\n",
    "         iii) String: It is a series of characters and can store any data type by implicit conversion."
   ]
  },
  {
   "cell_type": "raw",
   "id": "5a5225f2",
   "metadata": {},
   "source": [
    "4. What is an expression made up of? What do all expressions do?\n",
    "\n",
    "Answer: An expression is a combination of variables and operators which compute a certain value. Expression calculates the value\n",
    "        based on the order of precedence of operators."
   ]
  },
  {
   "cell_type": "raw",
   "id": "b46a66c6",
   "metadata": {},
   "source": [
    "5. This assignment statements, like spam = 10. What is the difference between an\n",
    "expression and a statement?\n",
    "\n",
    "Answer: An expression is a single statement which computes a value whereas a statement may or may not compute a certain\n",
    "        value. It is usally contained within the body of a class or a function or a loop and even outside their body."
   ]
  },
  {
   "cell_type": "raw",
   "id": "56d59cae",
   "metadata": {},
   "source": [
    "6. After running the following code, what does the variable bacon contain?\n",
    "   bacon = 22\n",
    "   bacon + 1\n",
    "\n",
    "Answer: The value of bacon would still remain 22 as after incrementing the value of bacon by 1, we are not storing it\n",
    "        in the variable bacon again. If we would have written bacon=bacon+1 then we would have got the value 23.\n"
   ]
  },
  {
   "cell_type": "raw",
   "id": "f9734b22",
   "metadata": {},
   "source": [
    "7. What should the values of the following two terms be?\n",
    "i) \"spam\" + \"spamspam\"   \n",
    "ii) \"spam\"*3 \n",
    "\n",
    "Answer: i) spamspamspam   (simple concatenation of two strings)\n",
    "        ii) spamspamspam   (repition of a string 3 times)"
   ]
  },
  {
   "cell_type": "raw",
   "id": "c7391802",
   "metadata": {},
   "source": [
    "8. Why is eggs a valid variable name while 100 is invalid?\n",
    "\n",
    "Answer: There are certain rules in python regarding the name of a variable. A numeric value can't be a variable as it can't             store any value whereas eggs can store a value and it follows the rules of naming a variable. "
   ]
  },
  {
   "cell_type": "raw",
   "id": "c5468348",
   "metadata": {},
   "source": [
    "9. What three functions can be used to get the integer, floating-point number, or string\n",
    "version of a value?\n",
    "\n",
    "Answer: int(),float() and str() are the three functions can be used to get the integer, floating-point number and string\n",
    "version of a value respectively."
   ]
  },
  {
   "cell_type": "raw",
   "id": "025b0226",
   "metadata": {},
   "source": [
    "10. Why does this expression cause an error? How can you fix it?\n",
    "'I have eaten' + 99 + 'burritos'\n",
    "\n",
    "Answer: Here we are trying to concatenate an integer value with the string which is not possible unless we convert that integer\n",
    "        value to string. We can fix it by writing 'I have eaten' + str(99) + 'burritos'."
   ]
  },
  {
   "cell_type": "code",
   "execution_count": null,
   "id": "7b91c1fe",
   "metadata": {},
   "outputs": [],
   "source": []
  }
 ],
 "metadata": {
  "kernelspec": {
   "display_name": "Python 3 (ipykernel)",
   "language": "python",
   "name": "python3"
  },
  "language_info": {
   "codemirror_mode": {
    "name": "ipython",
    "version": 3
   },
   "file_extension": ".py",
   "mimetype": "text/x-python",
   "name": "python",
   "nbconvert_exporter": "python",
   "pygments_lexer": "ipython3",
   "version": "3.9.12"
  }
 },
 "nbformat": 4,
 "nbformat_minor": 5
}
